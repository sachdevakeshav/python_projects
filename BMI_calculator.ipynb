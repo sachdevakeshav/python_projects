{
 "cells": [
  {
   "cell_type": "code",
   "execution_count": 4,
   "id": "0fe0a22f",
   "metadata": {},
   "outputs": [
    {
     "name": "stdout",
     "output_type": "stream",
     "text": [
      "enter your name:gaba\n",
      "enter your height in m:1.77\n",
      "enter your weight in kgs:65\n",
      "gaba ji maintain kro yeh weight jada bakchodi ni or gym jaate reh\n"
     ]
    }
   ],
   "source": [
    "name = input('enter your name:')\n",
    "height = input(\"enter your height in m:\")\n",
    "weight = input(\"enter your weight in kgs:\")\n",
    "height = float(height)\n",
    "weight = int(weight)\n",
    "bmi = weight / (height ** 2)\n",
    "if bmi <18.5:\n",
    "    print(name,\"ji\",\"khaa lia kro kuch or gym jao\")\n",
    "elif bmi <= 24.9:\n",
    "    print(name,\"ji\",\"maintain kro yeh weight jada bakchodi ni or gym jaate reh\")\n",
    "elif bmi <= 29.9:\n",
    "    print(name,\"ji\",\"mota ho rhe ho.. khana km krr lode\")\n",
    "else:\n",
    "    print(name,\"ji\",\"tu toh rhne hi de ..dhrti pr bhoj sala \")"
   ]
  },
  {
   "cell_type": "code",
   "execution_count": null,
   "id": "8b9f40db",
   "metadata": {},
   "outputs": [],
   "source": [
    "\n"
   ]
  },
  {
   "cell_type": "code",
   "execution_count": null,
   "id": "841a9930",
   "metadata": {},
   "outputs": [],
   "source": []
  },
  {
   "cell_type": "code",
   "execution_count": null,
   "id": "863017de",
   "metadata": {},
   "outputs": [],
   "source": []
  },
  {
   "cell_type": "code",
   "execution_count": null,
   "id": "aa1834b1",
   "metadata": {},
   "outputs": [],
   "source": []
  },
  {
   "cell_type": "code",
   "execution_count": null,
   "id": "19e61f81",
   "metadata": {},
   "outputs": [],
   "source": []
  },
  {
   "cell_type": "code",
   "execution_count": null,
   "id": "087deafe",
   "metadata": {},
   "outputs": [],
   "source": []
  },
  {
   "cell_type": "code",
   "execution_count": null,
   "id": "ba476360",
   "metadata": {},
   "outputs": [],
   "source": []
  },
  {
   "cell_type": "code",
   "execution_count": null,
   "id": "89b664a4",
   "metadata": {},
   "outputs": [],
   "source": []
  },
  {
   "cell_type": "code",
   "execution_count": null,
   "id": "cea9e568",
   "metadata": {},
   "outputs": [],
   "source": []
  },
  {
   "cell_type": "code",
   "execution_count": null,
   "id": "49f15893",
   "metadata": {},
   "outputs": [],
   "source": []
  }
 ],
 "metadata": {
  "kernelspec": {
   "display_name": "Python 3 (ipykernel)",
   "language": "python",
   "name": "python3"
  },
  "language_info": {
   "codemirror_mode": {
    "name": "ipython",
    "version": 3
   },
   "file_extension": ".py",
   "mimetype": "text/x-python",
   "name": "python",
   "nbconvert_exporter": "python",
   "pygments_lexer": "ipython3",
   "version": "3.10.9"
  }
 },
 "nbformat": 4,
 "nbformat_minor": 5
}
